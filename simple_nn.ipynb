{
 "cells": [
  {
   "cell_type": "code",
   "execution_count": 1,
   "id": "c7eb4fe8-f0cf-4f6c-8158-b5999e5080ee",
   "metadata": {},
   "outputs": [],
   "source": [
    "import pandas as pd\n",
    "import numpy as np\n",
    "from matplotlib import pyplot as plt"
   ]
  },
  {
   "cell_type": "code",
   "execution_count": 2,
   "id": "a3b941b6-b689-493d-9c15-a9a7c42987e3",
   "metadata": {},
   "outputs": [],
   "source": [
    "data=pd.read_csv(r\"C:\\Users\\HP\\Desktop\\MLProject\\data\\train.csv\")"
   ]
  },
  {
   "cell_type": "code",
   "execution_count": 3,
   "id": "e4ab4208-e472-4e82-91ba-f9f219c6c8e3",
   "metadata": {},
   "outputs": [
    {
     "data": {
      "text/html": [
       "<div>\n",
       "<style scoped>\n",
       "    .dataframe tbody tr th:only-of-type {\n",
       "        vertical-align: middle;\n",
       "    }\n",
       "\n",
       "    .dataframe tbody tr th {\n",
       "        vertical-align: top;\n",
       "    }\n",
       "\n",
       "    .dataframe thead th {\n",
       "        text-align: right;\n",
       "    }\n",
       "</style>\n",
       "<table border=\"1\" class=\"dataframe\">\n",
       "  <thead>\n",
       "    <tr style=\"text-align: right;\">\n",
       "      <th></th>\n",
       "      <th>label</th>\n",
       "      <th>pixel0</th>\n",
       "      <th>pixel1</th>\n",
       "      <th>pixel2</th>\n",
       "      <th>pixel3</th>\n",
       "      <th>pixel4</th>\n",
       "      <th>pixel5</th>\n",
       "      <th>pixel6</th>\n",
       "      <th>pixel7</th>\n",
       "      <th>pixel8</th>\n",
       "      <th>...</th>\n",
       "      <th>pixel774</th>\n",
       "      <th>pixel775</th>\n",
       "      <th>pixel776</th>\n",
       "      <th>pixel777</th>\n",
       "      <th>pixel778</th>\n",
       "      <th>pixel779</th>\n",
       "      <th>pixel780</th>\n",
       "      <th>pixel781</th>\n",
       "      <th>pixel782</th>\n",
       "      <th>pixel783</th>\n",
       "    </tr>\n",
       "  </thead>\n",
       "  <tbody>\n",
       "    <tr>\n",
       "      <th>0</th>\n",
       "      <td>1</td>\n",
       "      <td>0</td>\n",
       "      <td>0</td>\n",
       "      <td>0</td>\n",
       "      <td>0</td>\n",
       "      <td>0</td>\n",
       "      <td>0</td>\n",
       "      <td>0</td>\n",
       "      <td>0</td>\n",
       "      <td>0</td>\n",
       "      <td>...</td>\n",
       "      <td>0</td>\n",
       "      <td>0</td>\n",
       "      <td>0</td>\n",
       "      <td>0</td>\n",
       "      <td>0</td>\n",
       "      <td>0</td>\n",
       "      <td>0</td>\n",
       "      <td>0</td>\n",
       "      <td>0</td>\n",
       "      <td>0</td>\n",
       "    </tr>\n",
       "    <tr>\n",
       "      <th>1</th>\n",
       "      <td>0</td>\n",
       "      <td>0</td>\n",
       "      <td>0</td>\n",
       "      <td>0</td>\n",
       "      <td>0</td>\n",
       "      <td>0</td>\n",
       "      <td>0</td>\n",
       "      <td>0</td>\n",
       "      <td>0</td>\n",
       "      <td>0</td>\n",
       "      <td>...</td>\n",
       "      <td>0</td>\n",
       "      <td>0</td>\n",
       "      <td>0</td>\n",
       "      <td>0</td>\n",
       "      <td>0</td>\n",
       "      <td>0</td>\n",
       "      <td>0</td>\n",
       "      <td>0</td>\n",
       "      <td>0</td>\n",
       "      <td>0</td>\n",
       "    </tr>\n",
       "    <tr>\n",
       "      <th>2</th>\n",
       "      <td>1</td>\n",
       "      <td>0</td>\n",
       "      <td>0</td>\n",
       "      <td>0</td>\n",
       "      <td>0</td>\n",
       "      <td>0</td>\n",
       "      <td>0</td>\n",
       "      <td>0</td>\n",
       "      <td>0</td>\n",
       "      <td>0</td>\n",
       "      <td>...</td>\n",
       "      <td>0</td>\n",
       "      <td>0</td>\n",
       "      <td>0</td>\n",
       "      <td>0</td>\n",
       "      <td>0</td>\n",
       "      <td>0</td>\n",
       "      <td>0</td>\n",
       "      <td>0</td>\n",
       "      <td>0</td>\n",
       "      <td>0</td>\n",
       "    </tr>\n",
       "    <tr>\n",
       "      <th>3</th>\n",
       "      <td>4</td>\n",
       "      <td>0</td>\n",
       "      <td>0</td>\n",
       "      <td>0</td>\n",
       "      <td>0</td>\n",
       "      <td>0</td>\n",
       "      <td>0</td>\n",
       "      <td>0</td>\n",
       "      <td>0</td>\n",
       "      <td>0</td>\n",
       "      <td>...</td>\n",
       "      <td>0</td>\n",
       "      <td>0</td>\n",
       "      <td>0</td>\n",
       "      <td>0</td>\n",
       "      <td>0</td>\n",
       "      <td>0</td>\n",
       "      <td>0</td>\n",
       "      <td>0</td>\n",
       "      <td>0</td>\n",
       "      <td>0</td>\n",
       "    </tr>\n",
       "    <tr>\n",
       "      <th>4</th>\n",
       "      <td>0</td>\n",
       "      <td>0</td>\n",
       "      <td>0</td>\n",
       "      <td>0</td>\n",
       "      <td>0</td>\n",
       "      <td>0</td>\n",
       "      <td>0</td>\n",
       "      <td>0</td>\n",
       "      <td>0</td>\n",
       "      <td>0</td>\n",
       "      <td>...</td>\n",
       "      <td>0</td>\n",
       "      <td>0</td>\n",
       "      <td>0</td>\n",
       "      <td>0</td>\n",
       "      <td>0</td>\n",
       "      <td>0</td>\n",
       "      <td>0</td>\n",
       "      <td>0</td>\n",
       "      <td>0</td>\n",
       "      <td>0</td>\n",
       "    </tr>\n",
       "  </tbody>\n",
       "</table>\n",
       "<p>5 rows × 785 columns</p>\n",
       "</div>"
      ],
      "text/plain": [
       "   label  pixel0  pixel1  pixel2  pixel3  pixel4  pixel5  pixel6  pixel7  \\\n",
       "0      1       0       0       0       0       0       0       0       0   \n",
       "1      0       0       0       0       0       0       0       0       0   \n",
       "2      1       0       0       0       0       0       0       0       0   \n",
       "3      4       0       0       0       0       0       0       0       0   \n",
       "4      0       0       0       0       0       0       0       0       0   \n",
       "\n",
       "   pixel8  ...  pixel774  pixel775  pixel776  pixel777  pixel778  pixel779  \\\n",
       "0       0  ...         0         0         0         0         0         0   \n",
       "1       0  ...         0         0         0         0         0         0   \n",
       "2       0  ...         0         0         0         0         0         0   \n",
       "3       0  ...         0         0         0         0         0         0   \n",
       "4       0  ...         0         0         0         0         0         0   \n",
       "\n",
       "   pixel780  pixel781  pixel782  pixel783  \n",
       "0         0         0         0         0  \n",
       "1         0         0         0         0  \n",
       "2         0         0         0         0  \n",
       "3         0         0         0         0  \n",
       "4         0         0         0         0  \n",
       "\n",
       "[5 rows x 785 columns]"
      ]
     },
     "execution_count": 3,
     "metadata": {},
     "output_type": "execute_result"
    }
   ],
   "source": [
    "data.head()"
   ]
  },
  {
   "cell_type": "code",
   "execution_count": 4,
   "id": "2e5220b0-3bc7-4314-95d2-61b0af02ef72",
   "metadata": {},
   "outputs": [],
   "source": [
    "data=np.array(data)"
   ]
  },
  {
   "cell_type": "code",
   "execution_count": 5,
   "id": "45e53e7c-fd74-4aeb-a66e-87506b4681a9",
   "metadata": {},
   "outputs": [],
   "source": [
    "m,n=data.shape"
   ]
  },
  {
   "cell_type": "code",
   "execution_count": 6,
   "id": "c4a2263c-b57d-4195-b817-cc314c8c9a91",
   "metadata": {},
   "outputs": [],
   "source": [
    "np.random.shuffle(data)"
   ]
  },
  {
   "cell_type": "code",
   "execution_count": 7,
   "id": "2502eb28-620f-4924-81af-b388d43524bc",
   "metadata": {},
   "outputs": [],
   "source": [
    "data_test=data[0:1000].T"
   ]
  },
  {
   "cell_type": "code",
   "execution_count": 8,
   "id": "30bd6540-12aa-4e8c-bf4c-035c777ac7ba",
   "metadata": {},
   "outputs": [],
   "source": [
    "y_test=data_test[0]\n",
    "x_test=data_test[1:n]\n",
    "x_test=x_test/255"
   ]
  },
  {
   "cell_type": "code",
   "execution_count": 9,
   "id": "1070b53f-299e-4b16-a63a-356f49644101",
   "metadata": {},
   "outputs": [],
   "source": [
    "data_train=data[1000:m].T"
   ]
  },
  {
   "cell_type": "code",
   "execution_count": 10,
   "id": "95d11cbf-2109-4c30-91e6-a9710f231e25",
   "metadata": {},
   "outputs": [],
   "source": [
    "y_train=data_train[0]\n",
    "x_train=data_train[1:n]\n",
    "x_train=x_train/255"
   ]
  },
  {
   "cell_type": "code",
   "execution_count": 11,
   "id": "27523b74-9167-48a5-aa62-b5049b7bdb16",
   "metadata": {},
   "outputs": [],
   "source": [
    "def ReLU(z):\n",
    "    return np.maximum(z,0)\n",
    "    \n",
    "def softmax(z):\n",
    "    exp_z = np.exp(z - np.max(z, axis=0, keepdims=True))\n",
    "    return exp_z / np.sum(exp_z,axis=0, keepdims=True)\n",
    "\n",
    "def init_params():\n",
    "    w1=np.random.rand(10,784)-0.5\n",
    "    b1=np.random.rand(10,1)-0.5\n",
    "    w2=np.random.rand(10,10)-0.5\n",
    "    b2=np.random.rand(10,1)-0.5\n",
    "    return w1,b1,w2,b2\n",
    "\n",
    "def forward_prop(w1,b1,w2,b2,x):\n",
    "    z1=w1.dot(x) + b1\n",
    "    a1=ReLU(z1)\n",
    "    z2=w2.dot(a1) + b2\n",
    "    a2=softmax(z2)\n",
    "    return z1,a1,z2,a2\n",
    "\n",
    "def one_hot(y):\n",
    "    one_hot_y=np.zeros((y.size,y.max()+1))\n",
    "    one_hot_y[np.arange(y.size),y]=1\n",
    "    one_hot_y=one_hot_y.T\n",
    "    return one_hot_y\n",
    "\n",
    "def derv_ReLU(z):\n",
    "    return z>0\n",
    "\n",
    "def back_prop(z1,a1,z2,a2,w2,x,y):\n",
    "    m=y.size\n",
    "    one_y=one_hot(y)\n",
    "    dz2=a2-one_y\n",
    "    dw2=1/m*dz2.dot(a1.T)\n",
    "    db2=1/m*np.sum(dz2, axis=1, keepdims=True)\n",
    "    dz1=w2.T.dot(dz2)*derv_ReLU(z1)\n",
    "    dw1=1/m*dz1.dot(x.T)\n",
    "    db1=1/m*np.sum(dz1, axis=1, keepdims=True)\n",
    "    return dw1,db1,dw2,db2\n",
    "\n",
    "def update_params(w1,b1,w2,b2,dw1,db1,dw2,db2,alpha):\n",
    "    w1=w1-alpha*dw1\n",
    "    b1=b1-alpha*db1\n",
    "    w2=w2-alpha*dw2\n",
    "    b2=b2-alpha*db2\n",
    "    return w1,b1,w2,b2\n",
    "\n",
    "def get_predictions(a2):\n",
    "    return np.argmax(a2,0)\n",
    "\n",
    "def get_accuracy(predictions,y):\n",
    "    print(predictions,y)\n",
    "    return np.sum(predictions==y)/y.size\n",
    "\n",
    "def compute_loss(a2, y):\n",
    "    m = y.size\n",
    "    oh_Y = one_hot(y)\n",
    "    # cross-entropy\n",
    "    loss = -1/m * np.sum(oh_Y * np.log(a2 + 1e-8))  # add epsilon to avoid log(0)\n",
    "    return loss\n",
    "\n",
    "\n",
    "def gradient_descent(x,y,iterations,alpha):\n",
    "    w1,b1,w2,b2=init_params()\n",
    "    for i in range(iterations+1):\n",
    "        z1,a1,z2,a2=forward_prop(w1,b1,w2,b2,x)\n",
    "        dw1,db1,dw2,db2=back_prop(z1,a1,z2,a2,w2,x,y)\n",
    "        w1,b1,w2,b2=update_params(w1,b1,w2,b2,dw1,db1,dw2,db2,alpha)\n",
    "        if(i%50==0):\n",
    "            print(\"Iteration:\",i)\n",
    "            print(\"Accuracy:\",get_accuracy(get_predictions(a2),y),\"Loss:\",compute_loss(a2,y))\n",
    "    return w1,b1,w2,b2\n"
   ]
  },
  {
   "cell_type": "code",
   "execution_count": 12,
   "id": "bbef56f5-6649-4bd4-8f84-8998b96e8af7",
   "metadata": {},
   "outputs": [
    {
     "name": "stdout",
     "output_type": "stream",
     "text": [
      "Iteration: 0\n",
      "[4 7 3 ... 6 7 8] [8 2 9 ... 4 9 7]\n",
      "Accuracy: 0.07065853658536585 Loss: 2.9494698717676635\n",
      "Iteration: 50\n",
      "[0 6 9 ... 3 7 7] [8 2 9 ... 4 9 7]\n",
      "Accuracy: 0.37726829268292683 Loss: 1.7639112150166778\n",
      "Iteration: 100\n",
      "[5 2 9 ... 7 9 7] [8 2 9 ... 4 9 7]\n",
      "Accuracy: 0.5466829268292683 Loss: 1.240905937786271\n",
      "Iteration: 150\n",
      "[8 8 4 ... 9 9 7] [8 2 9 ... 4 9 7]\n",
      "Accuracy: 0.6565609756097561 Loss: 0.9757765605905013\n",
      "Iteration: 200\n",
      "[8 8 4 ... 9 9 7] [8 2 9 ... 4 9 7]\n",
      "Accuracy: 0.7061219512195122 Loss: 0.8401231412526949\n",
      "Iteration: 250\n",
      "[8 8 4 ... 9 9 7] [8 2 9 ... 4 9 7]\n",
      "Accuracy: 0.7376341463414634 Loss: 0.7624272805466795\n",
      "Iteration: 300\n",
      "[8 8 4 ... 4 4 7] [8 2 9 ... 4 9 7]\n",
      "Accuracy: 0.760609756097561 Loss: 0.7053459997557715\n",
      "Iteration: 350\n",
      "[8 8 4 ... 4 4 7] [8 2 9 ... 4 9 7]\n",
      "Accuracy: 0.7815121951219512 Loss: 0.6575870729676784\n",
      "Iteration: 400\n",
      "[8 8 9 ... 4 4 7] [8 2 9 ... 4 9 7]\n",
      "Accuracy: 0.7996341463414635 Loss: 0.6155108892257457\n",
      "Iteration: 450\n",
      "[8 8 9 ... 4 4 7] [8 2 9 ... 4 9 7]\n",
      "Accuracy: 0.8148780487804878 Loss: 0.5786200704181756\n",
      "Iteration: 500\n",
      "[8 8 9 ... 4 4 7] [8 2 9 ... 4 9 7]\n",
      "Accuracy: 0.8283170731707317 Loss: 0.5473648608966488\n",
      "Iteration: 550\n",
      "[8 8 9 ... 4 9 7] [8 2 9 ... 4 9 7]\n",
      "Accuracy: 0.8381463414634146 Loss: 0.5213918628662263\n",
      "Iteration: 600\n",
      "[8 8 9 ... 4 9 7] [8 2 9 ... 4 9 7]\n",
      "Accuracy: 0.8459268292682927 Loss: 0.5000127657304089\n",
      "Iteration: 650\n",
      "[8 8 9 ... 4 9 7] [8 2 9 ... 4 9 7]\n",
      "Accuracy: 0.8515853658536585 Loss: 0.4821298688608956\n",
      "Iteration: 700\n",
      "[8 8 9 ... 4 9 7] [8 2 9 ... 4 9 7]\n",
      "Accuracy: 0.8570731707317073 Loss: 0.46704009111626493\n",
      "Iteration: 750\n",
      "[8 8 9 ... 4 9 7] [8 2 9 ... 4 9 7]\n",
      "Accuracy: 0.8619268292682927 Loss: 0.4541775114582651\n",
      "Iteration: 800\n",
      "[8 8 9 ... 4 9 7] [8 2 9 ... 4 9 7]\n",
      "Accuracy: 0.8655853658536585 Loss: 0.4430209319749472\n",
      "Iteration: 850\n",
      "[8 8 9 ... 4 9 7] [8 2 9 ... 4 9 7]\n",
      "Accuracy: 0.8686585365853658 Loss: 0.4332452835872547\n",
      "Iteration: 900\n",
      "[8 8 9 ... 4 9 7] [8 2 9 ... 4 9 7]\n",
      "Accuracy: 0.872390243902439 Loss: 0.4246067357776723\n",
      "Iteration: 950\n",
      "[8 8 9 ... 4 9 7] [8 2 9 ... 4 9 7]\n",
      "Accuracy: 0.8753170731707317 Loss: 0.41689751566114713\n",
      "Iteration: 1000\n",
      "[8 8 9 ... 4 9 7] [8 2 9 ... 4 9 7]\n",
      "Accuracy: 0.8776829268292683 Loss: 0.40993878830446445\n"
     ]
    }
   ],
   "source": [
    "w1,b1,w2,b2=gradient_descent(x_train,y_train,1000,0.1)"
   ]
  },
  {
   "cell_type": "code",
   "execution_count": 24,
   "id": "d62a3535-e874-4070-904e-2a990ff0adbf",
   "metadata": {},
   "outputs": [],
   "source": [
    "def make_prediction(x,w1,b1,w2,b2):\n",
    "    _, _, _, a2=forward_prop(w1,b1,w2,b2,x)\n",
    "    predictions=get_predictions(a2)\n",
    "    return predictions\n",
    "\n",
    "def test_prediction(index,w1,b1,w2,b2):\n",
    "    current_image=x_train[:,index,None]\n",
    "    prediction=make_prediction(x_train[:,index,None],w1,b1,w2,b2)\n",
    "    label=y_train[index]\n",
    "    print(\"Prediction:\",prediction)\n",
    "    print(\"Label\",label)\n",
    "    current_image=current_image.reshape(28,28)*255\n",
    "    plt.gray()\n",
    "    plt.imshow(current_image,interpolation='nearest')\n",
    "    plt.show()"
   ]
  },
  {
   "cell_type": "code",
   "execution_count": 25,
   "id": "ab29c54d-36d0-49d9-b24c-f722cef32aae",
   "metadata": {},
   "outputs": [
    {
     "name": "stdout",
     "output_type": "stream",
     "text": [
      "Prediction: [7]\n",
      "Label 7\n"
     ]
    },
    {
     "data": {
      "image/png": "[encoded data removed]",
      "text/plain": [
       "<Figure size 640x480 with 1 Axes>"
      ]
     },
     "metadata": {},
     "output_type": "display_data"
    }
   ],
   "source": [
    "test_prediction(40,w1,b1,w2,b2)"
   ]
  },
  {
   "cell_type": "code",
   "execution_count": 26,
   "id": "567b3993-6493-411d-ab75-f43006d58db0",
   "metadata": {},
   "outputs": [
    {
     "name": "stdout",
     "output_type": "stream",
     "text": [
      "[3 1 4 4 0 3 7 2 0 8 1 1 0 4 3 6 1 4 7 6 4 2 5 3 1 2 0 9 0 0 1 0 6 9 1 7 8\n",
      " 0 1 6 8 0 3 8 9 3 2 4 9 9 5 7 3 9 8 1 4 9 8 1 9 4 1 6 8 3 2 2 2 0 6 6 7 6\n",
      " 1 1 6 6 3 7 9 7 0 8 5 8 3 6 8 8 6 1 9 8 6 2 4 0 2 3 0 9 3 9 4 7 4 3 6 0 9\n",
      " 0 7 1 6 9 4 5 6 8 1 1 6 1 3 9 5 9 5 4 1 8 7 9 3 9 9 4 7 0 0 8 1 4 8 2 9 7\n",
      " 0 9 7 6 8 6 4 0 2 4 8 3 3 8 1 0 0 2 0 3 2 9 1 0 7 1 9 8 4 0 8 1 1 3 7 9 2\n",
      " 1 1 9 9 2 4 9 4 4 8 4 4 7 4 6 7 9 3 7 9 1 9 7 5 2 2 1 2 2 3 1 5 3 5 3 8 6\n",
      " 9 6 1 3 1 4 2 6 6 5 0 6 6 6 9 6 7 3 7 0 1 3 5 5 2 2 8 6 3 5 3 0 0 8 1 7 5\n",
      " 1 1 0 0 1 5 7 3 8 1 2 7 7 0 9 5 8 4 1 0 1 4 2 6 7 7 8 5 6 3 3 8 7 8 7 6 3\n",
      " 3 0 0 3 0 1 5 8 0 2 5 9 6 3 2 1 6 8 9 5 3 9 9 3 6 2 7 3 0 2 4 3 7 5 5 4 4\n",
      " 1 1 4 3 6 0 7 5 4 0 8 5 4 7 2 5 1 8 9 8 7 0 2 2 5 6 9 0 6 4 0 3 3 5 6 3 7\n",
      " 7 3 6 2 8 0 0 6 6 9 1 8 2 2 0 7 2 9 6 6 7 8 9 4 7 1 4 0 0 4 0 5 5 6 9 3 0\n",
      " 1 6 9 7 3 4 1 8 8 8 6 6 5 4 0 0 8 9 2 1 1 1 5 5 6 8 3 8 6 5 8 2 8 9 3 1 6\n",
      " 7 9 4 6 0 2 7 8 6 6 3 6 2 6 5 2 4 5 4 2 9 1 3 1 5 2 2 7 1 3 2 0 6 8 2 4 1\n",
      " 4 0 4 3 2 8 9 1 5 6 4 6 9 3 5 0 0 8 6 7 0 5 0 4 7 6 5 0 1 6 3 7 8 0 0 1 4\n",
      " 1 1 7 1 9 6 7 4 5 0 3 8 8 8 3 9 4 6 3 8 9 4 5 8 6 3 5 5 6 4 3 2 2 4 6 1 0\n",
      " 5 7 9 1 1 8 2 8 8 1 7 9 4 8 4 6 2 9 2 5 1 1 9 4 1 4 2 7 9 3 2 6 5 2 3 2 1\n",
      " 5 1 0 9 5 1 6 0 2 8 6 5 0 8 4 5 5 8 5 4 0 7 5 9 0 5 0 4 9 7 6 9 5 0 8 0 7\n",
      " 1 7 7 4 5 2 6 8 3 1 6 3 6 4 5 2 2 1 0 9 2 7 3 1 7 7 2 8 0 4 3 9 2 6 1 7 0\n",
      " 1 5 5 0 8 0 0 0 6 1 1 0 6 0 6 6 6 3 0 0 0 8 5 1 0 1 9 8 8 5 4 5 9 6 3 6 6\n",
      " 2 5 0 2 2 4 1 9 9 6 5 8 8 1 8 4 4 5 7 7 0 9 1 3 4 6 1 6 1 9 6 5 0 1 0 2 5\n",
      " 5 9 5 6 0 6 4 7 7 6 4 3 6 4 1 2 9 6 4 3 4 1 4 1 3 6 8 9 3 3 9 6 3 4 1 3 1\n",
      " 1 7 7 1 0 3 7 0 6 1 7 9 7 9 0 3 4 8 1 8 7 7 2 8 3 9 4 4 9 4 7 2 5 6 1 7 3\n",
      " 7 1 8 0 4 3 9 6 8 9 2 5 9 1 3 2 7 9 4 8 4 3 3 7 8 2 0 2 2 1 2 0 0 0 1 5 2\n",
      " 9 7 2 6 8 8 5 2 9 7 3 8 6 7 5 8 2 7 8 1 4 8 7 0 5 3 9 0 5 0 1 2 0 4 8 2 1\n",
      " 5 7 0 7 3 9 0 2 0 3 2 3 2 0 5 0 2 5 6 5 7 9 3 0 6 3 1 4 4 5 6 0 8 4 7 8 5\n",
      " 4 8 8 9 5 5 0 3 0 5 1 9 3 8 6 3 6 5 4 3 5 1 2 0 7 1 0 8 3 4 4 2 9 0 8 3 9\n",
      " 1 5 6 2 5 5 5 8 9 3 9 0 2 9 1 9 0 9 4 6 4 0 8 5 0 6 6 6 9 9 8 4 1 4 5 5 0\n",
      " 7] [8 1 4 4 0 3 7 2 0 6 1 1 0 2 3 6 1 4 7 6 6 2 5 3 1 2 0 9 0 0 1 0 6 9 1 7 2\n",
      " 0 1 6 8 0 3 8 9 3 2 4 4 9 5 7 3 9 8 1 4 9 3 1 9 4 1 6 8 3 4 2 2 0 6 6 7 6\n",
      " 1 1 6 6 3 7 9 7 0 8 5 8 3 0 1 8 6 1 9 8 6 2 4 0 2 3 0 9 3 9 4 7 4 3 6 0 9\n",
      " 0 8 1 6 9 4 5 6 8 1 1 6 6 3 9 8 9 5 4 8 8 7 9 3 9 9 4 7 0 0 8 1 4 8 2 9 9\n",
      " 0 9 7 6 8 6 4 0 2 4 8 3 5 8 1 0 0 2 0 3 2 9 1 0 7 1 9 8 4 0 8 1 1 3 7 4 2\n",
      " 1 1 7 9 2 4 9 4 4 8 4 7 0 4 4 7 9 3 7 9 1 4 7 7 2 2 1 2 2 3 1 5 3 4 3 8 6\n",
      " 9 6 1 9 1 4 2 6 6 3 0 6 6 6 9 6 7 3 7 0 2 3 5 5 2 2 8 6 6 5 3 0 0 8 1 7 5\n",
      " 1 1 0 0 1 5 3 9 5 1 2 7 7 0 7 8 8 4 1 0 1 4 3 6 7 7 8 5 6 3 3 8 7 8 7 6 3\n",
      " 3 0 0 3 0 1 5 8 0 7 5 9 6 3 2 1 6 8 9 5 3 3 9 3 6 2 7 3 0 2 4 3 7 5 5 4 4\n",
      " 1 1 4 5 6 0 7 5 4 0 8 5 4 7 2 5 1 0 9 8 9 0 2 2 5 6 9 0 6 4 0 3 3 5 6 3 7\n",
      " 7 7 6 2 5 0 0 6 6 7 1 5 2 2 0 7 2 4 6 6 7 8 9 4 7 1 7 0 0 4 0 5 8 6 9 3 0\n",
      " 1 6 9 7 3 4 1 8 8 8 6 6 5 4 0 0 8 9 2 1 1 1 5 5 6 8 3 8 6 3 8 2 8 9 3 1 6\n",
      " 7 2 4 6 0 2 7 8 6 6 3 6 2 6 5 2 4 5 8 3 9 1 3 1 5 2 2 7 1 3 2 0 6 8 2 4 1\n",
      " 4 0 4 3 2 8 9 1 5 6 4 6 9 3 3 0 0 7 6 3 0 5 0 4 7 6 5 0 1 6 3 7 8 0 0 1 4\n",
      " 1 1 7 1 9 6 7 4 5 0 3 8 8 8 3 8 4 6 3 8 9 4 5 5 6 3 5 5 6 4 2 2 7 4 6 1 0\n",
      " 5 7 9 1 1 8 2 4 8 1 7 8 4 8 4 6 7 9 2 5 1 1 9 4 1 2 2 7 9 8 2 6 5 3 9 2 1\n",
      " 5 1 0 9 8 1 6 0 2 8 6 8 0 5 4 5 5 8 5 4 0 7 5 5 0 5 0 4 9 7 6 9 5 0 8 0 2\n",
      " 1 7 7 4 5 2 6 8 3 1 6 3 6 4 5 2 2 1 0 9 2 7 3 1 7 7 2 8 0 3 3 9 7 6 1 7 0\n",
      " 1 5 9 0 8 0 0 0 6 1 1 0 6 0 6 6 6 9 0 0 0 8 5 1 0 1 9 8 8 5 4 5 9 6 3 6 6\n",
      " 1 5 0 3 2 4 1 9 9 6 5 8 8 1 8 8 9 5 7 7 0 9 1 3 4 6 1 6 1 9 6 5 0 1 0 2 3\n",
      " 5 9 5 6 0 6 4 7 7 6 4 3 6 4 1 3 9 6 4 3 4 1 4 1 3 6 8 9 3 3 9 6 3 4 1 3 1\n",
      " 1 7 7 1 0 3 1 0 6 1 9 9 7 9 0 5 4 8 1 8 7 7 2 1 3 9 4 4 9 4 7 2 5 6 1 7 3\n",
      " 0 1 8 0 4 3 9 6 8 9 2 5 9 1 3 7 7 7 4 8 4 5 3 7 3 2 0 2 9 3 2 6 0 0 8 5 2\n",
      " 9 7 2 6 8 8 5 2 9 7 3 8 6 7 3 8 5 7 8 1 4 8 7 9 5 3 9 0 5 0 1 2 0 4 8 2 1\n",
      " 5 7 0 2 5 9 0 0 0 3 1 3 2 0 5 0 2 3 6 5 7 9 3 0 6 3 1 4 4 5 6 0 8 4 7 8 5\n",
      " 5 8 8 9 3 5 0 3 0 5 1 9 3 8 6 3 6 5 4 3 5 1 2 0 7 1 0 8 3 4 2 2 9 0 8 9 9\n",
      " 1 3 6 2 5 5 3 8 4 3 9 0 2 4 1 4 0 7 4 2 4 0 5 5 0 6 6 8 9 9 8 9 1 4 5 5 0\n",
      " 1]\n"
     ]
    },
    {
     "data": {
      "text/plain": [
       "0.885"
      ]
     },
     "execution_count": 26,
     "metadata": {},
     "output_type": "execute_result"
    }
   ],
   "source": [
    "test_predictions=make_prediction(x_test,w1,b1,w2,b2)\n",
    "get_accuracy(test_predictions,y_test)"
   ]
  },
  {
   "cell_type": "code",
   "execution_count": 27,
   "id": "8dfc0b56-a54e-4767-a7fb-e2565a4a27dd",
   "metadata": {},
   "outputs": [
    {
     "data": {
      "text/plain": [
       "(784, 41000)"
      ]
     },
     "execution_count": 27,
     "metadata": {},
     "output_type": "execute_result"
    }
   ],
   "source": [
    "x_train.shape"
   ]
  },
  {
   "cell_type": "code",
   "execution_count": 28,
   "id": "811b82de-b191-47ac-bd6e-6a8b2fdc7684",
   "metadata": {},
   "outputs": [],
   "source": [
    "data=pd.read_csv(r\"C:\\Users\\HP\\Desktop\\MLProject\\data\\test.csv\")"
   ]
  },
  {
   "cell_type": "code",
   "execution_count": 29,
   "id": "a2a635e6-259a-4812-a5e6-f8ef458c9553",
   "metadata": {},
   "outputs": [
    {
     "data": {
      "text/plain": [
       "(28000, 784)"
      ]
     },
     "execution_count": 29,
     "metadata": {},
     "output_type": "execute_result"
    }
   ],
   "source": [
    "import matplotlib.pyplot as plt\n",
    "import numpy as np\n",
    "\n",
    "def plot_class_errors_nn(x_test, y_test, w1, b1, w2, b2):\n",
    "    \"\"\"\n",
    "    Plot percentage of incorrectly predicted labels per class for NN model.\n",
    "    \n",
    "    Args:\n",
    "        x_test (ndarray): Test features, shape (784, m).\n",
    "        y_test (ndarray): True labels, shape (m,).\n",
    "        w1, b1, w2, b2: Trained neural network parameters.\n",
    "    \"\"\"\n",
    "    # Get predictions using your NN\n",
    "    y_pred = make_prediction(x_test, w1, b1, w2, b2)\n",
    "\n",
    "    classes = np.arange(10)  # digit classes 0-9\n",
    "    errors = []\n",
    "\n",
    "    for c in classes:\n",
    "        # mask for class c\n",
    "        mask = (y_test == c)\n",
    "        total = np.sum(mask)\n",
    "        incorrect = np.sum(y_pred[mask] != y_test[mask])\n",
    "        error_rate = (incorrect / total * 100) if total > 0 else 0\n",
    "        errors.append(error_rate)\n",
    "\n",
    "    errors = np.array(errors)\n",
    "    overall_error = np.mean(errors)\n",
    "\n",
    "    # Plotting\n",
    "    plt.figure(figsize=(8, 5))\n",
    "    plt.bar(classes, errors, color=\"skyblue\", edgecolor=\"black\")\n",
    "    plt.axhline(y=overall_error, color=\"red\", linestyle=\"--\", \n",
    "                label=f\"Overall Error: {overall_error:.2f}%\")\n",
    "    plt.xticks(classes)\n",
    "    plt.xlabel(\"Digit Class (0-9)\")\n",
    "    plt.ylabel(\"Error Percentage (%)\")\n",
    "    plt.title(\"Percentage of Incorrectly Predicted Labels\")\n",
    "    plt.legend()\n",
    "    plt.show()\n",
    "\n",
    "# Example usage after training:\n",
    "# plot_class_errors_nn(x_test, y_test, w1, b1, w2, b2)\n",
    "data.shape"
   ]
  },
  {
   "cell_type": "code",
   "execution_count": 30,
   "id": "8678a26d-51dd-4764-a86e-f17da7604da6",
   "metadata": {},
   "outputs": [
    {
     "data": {
      "image/png": "[encoded data removed]",
      "text/plain": [
       "<Figure size 800x500 with 1 Axes>"
      ]
     },
     "metadata": {},
     "output_type": "display_data"
    }
   ],
   "source": [
    "plot_class_errors_nn(x_test, y_test, w1, b1, w2, b2)"
   ]
  },
  {
   "cell_type": "code",
   "execution_count": 31,
   "id": "99e34bb1-72da-486a-b8e4-43d9e197af1f",
   "metadata": {},
   "outputs": [],
   "source": [
    "# Example: 80% train, 20% validation\n",
    "val_split = int(0.8 * x_train.shape[1])\n",
    "x_train_part = x_train[:, :val_split]\n",
    "y_train_part = y_train[:val_split]\n",
    "\n",
    "x_val = x_train[:, val_split:]\n",
    "y_val = y_train[val_split:]\n",
    "train_losses = []\n",
    "val_losses = []"
   ]
  },
  {
   "cell_type": "code",
   "execution_count": 32,
   "id": "62ca448a-f87e-41e8-adf6-588fc87b5de2",
   "metadata": {},
   "outputs": [],
   "source": [
    "def gradient_descent_with_losses(x_train, y_train, x_val, y_val, iterations, alpha):\n",
    "    \"\"\"\n",
    "    Perform gradient descent and track training + validation loss at every iteration.\n",
    "\n",
    "    Args:\n",
    "        x_train (ndarray): Training features.\n",
    "        y_train (ndarray): Training labels.\n",
    "        x_val (ndarray): Validation features.\n",
    "        y_val (ndarray): Validation labels.\n",
    "        iterations (int): Number of training iterations.\n",
    "        alpha (float): Learning rate.\n",
    "\n",
    "    Returns:\n",
    "        w1, b1, w2, b2: Trained parameters.\n",
    "        train_losses (list): Training loss at each iteration.\n",
    "        val_losses (list): Validation loss at each iteration.\n",
    "    \"\"\"\n",
    "    w1, b1, w2, b2 = init_params()\n",
    "    train_losses = []\n",
    "    val_losses = []\n",
    "\n",
    "    for i in range(iterations + 1):\n",
    "        # forward + backprop on training data\n",
    "        z1, a1, z2, a2 = forward_prop(w1, b1, w2, b2, x_train)\n",
    "        dw1, db1, dw2, db2 = back_prop(z1, a1, z2, a2, w2, x_train, y_train)\n",
    "        w1, b1, w2, b2 = update_params(w1, b1, w2, b2, dw1, db1, dw2, db2, alpha)\n",
    "\n",
    "        # compute training loss\n",
    "        train_loss = compute_loss(a2, y_train)\n",
    "\n",
    "        # compute validation loss\n",
    "        _, _, _, a2_val = forward_prop(w1, b1, w2, b2, x_val)\n",
    "        val_loss = compute_loss(a2_val, y_val)\n",
    "\n",
    "        train_losses.append(train_loss)\n",
    "        val_losses.append(val_loss)\n",
    "\n",
    "        # (optional) print every 100 steps\n",
    "        if i % 100 == 0:\n",
    "            print(f\"Iteration {i} | Train Loss: {train_loss:.4f} | Val Loss: {val_loss:.4f}\")\n",
    "\n",
    "    return w1, b1, w2, b2, train_losses, val_losses\n"
   ]
  },
  {
   "cell_type": "code",
   "execution_count": 34,
   "id": "d6c9a787-8c2d-40ff-a959-fa26775e8aa0",
   "metadata": {},
   "outputs": [
    {
     "name": "stdout",
     "output_type": "stream",
     "text": [
      "Iteration 0 | Train Loss: 3.0678 | Val Loss: 2.7914\n",
      "Iteration 100 | Train Loss: 1.1830 | Val Loss: 1.1690\n",
      "Iteration 200 | Train Loss: 0.7481 | Val Loss: 0.7301\n",
      "Iteration 300 | Train Loss: 0.6072 | Val Loss: 0.5890\n",
      "Iteration 400 | Train Loss: 0.5375 | Val Loss: 0.5207\n",
      "Iteration 500 | Train Loss: 0.4947 | Val Loss: 0.4794\n",
      "Iteration 600 | Train Loss: 0.4650 | Val Loss: 0.4512\n",
      "Iteration 700 | Train Loss: 0.4428 | Val Loss: 0.4304\n",
      "Iteration 800 | Train Loss: 0.4256 | Val Loss: 0.4145\n",
      "Iteration 900 | Train Loss: 0.4117 | Val Loss: 0.4017\n",
      "Iteration 1000 | Train Loss: 0.4003 | Val Loss: 0.3912\n"
     ]
    }
   ],
   "source": [
    "w1, b1, w2, b2, train_losses, val_losses = gradient_descent_with_losses(\n",
    "    x_train_part, y_train_part, x_val, y_val, iterations=1000, alpha=0.1\n",
    ")\n",
    "\n",
    "\n"
   ]
  },
  {
   "cell_type": "code",
   "execution_count": 35,
   "id": "72bf0333-561c-443b-aff0-e41e0714b080",
   "metadata": {},
   "outputs": [],
   "source": [
    "def plot_training_validation_loss(train_losses, val_losses, step):\n",
    "    \"\"\"\n",
    "    Plot training and validation cross-entropy loss over iterations.\n",
    "\n",
    "    Args:\n",
    "        train_losses (list): Training losses recorded during training.\n",
    "        val_losses (list): Validation losses recorded during training.\n",
    "        step (int): Interval of iterations at which losses were recorded.\n",
    "    \"\"\"\n",
    "    iterations = [i * step for i in range(len(train_losses))]\n",
    "\n",
    "    plt.figure(figsize=(8, 5))\n",
    "    plt.plot(iterations, train_losses, label=\"Training Loss\", color=\"blue\")\n",
    "    plt.plot(iterations, val_losses, label=\"Validation Loss\", color=\"orange\")\n",
    "    plt.xlabel(\"Iterations\")\n",
    "    plt.ylabel(\"Cross-Entropy Loss\")\n",
    "    plt.title(\"Evolution of Training and Validation Loss\")\n",
    "    plt.legend()\n",
    "    plt.grid(True)\n",
    "    plt.show()"
   ]
  },
  {
   "cell_type": "code",
   "execution_count": 36,
   "id": "6a103de8-cdfa-4e85-837f-5435e50b5002",
   "metadata": {},
   "outputs": [
    {
     "data": {
      "image/png": "[encoded data removed]",
      "text/plain": [
       "<Figure size 800x500 with 1 Axes>"
      ]
     },
     "metadata": {},
     "output_type": "display_data"
    }
   ],
   "source": [
    "plot_training_validation_loss(train_losses, val_losses, 1)"
   ]
  },
  {
   "cell_type": "code",
   "execution_count": 37,
   "id": "d6ce24f3-6222-4620-abef-5dce4b331b11",
   "metadata": {},
   "outputs": [],
   "source": [
    "def test_random_prediction(x_data, y_data, w1, b1, w2, b2):\n",
    "    \"\"\"\n",
    "    Test the neural network on a random sample and display:\n",
    "    - The digit image\n",
    "    - A probability distribution bar chart for all classes\n",
    "\n",
    "    Args:\n",
    "        x_data (ndarray): Feature matrix (784, m)\n",
    "        y_data (ndarray): True labels (m,)\n",
    "        w1, b1, w2, b2: Trained neural network parameters\n",
    "    \"\"\"\n",
    "    # Pick random index\n",
    "    index = np.random.randint(0, x_data.shape[1])\n",
    "    current_image = x_data[:, index, None]  # shape (784, 1)\n",
    "\n",
    "    # Forward pass to get probabilities\n",
    "    _, _, _, a2 = forward_prop(w1, b1, w2, b2, current_image)\n",
    "    probabilities = a2.ravel()  # flatten to shape (10,)\n",
    "    prediction = np.argmax(probabilities)\n",
    "    label = y_data[index]\n",
    "\n",
    "    # Plot side-by-side\n",
    "    fig, (ax1, ax2) = plt.subplots(1, 2, figsize=(10, 4))\n",
    "\n",
    "    # Show the digit image\n",
    "    ax1.imshow(current_image.reshape(28, 28) * 255, cmap=\"gray\")\n",
    "    ax1.set_title(f\"True Label: {label}\")\n",
    "    ax1.axis(\"off\")\n",
    "\n",
    "    # Show probability distribution\n",
    "    ax2.bar(np.arange(10), probabilities, color=\"skyblue\", edgecolor=\"black\")\n",
    "    ax2.set_xticks(np.arange(10))\n",
    "    ax2.set_xlabel(\"Digit Class (0-9)\")\n",
    "    ax2.set_ylabel(\"Probability\")\n",
    "    ax2.set_title(f\"Predicted Value = {prediction}\")\n",
    "\n",
    "    plt.tight_layout()\n",
    "    plt.show()"
   ]
  },
  {
   "cell_type": "code",
   "execution_count": 38,
   "id": "46a25f7a-7616-4762-b338-83c4b6a1d581",
   "metadata": {},
   "outputs": [
    {
     "data": {
      "image/png": "[encoded data removed]",
      "text/plain": [
       "<Figure size 1000x400 with 2 Axes>"
      ]
     },
     "metadata": {},
     "output_type": "display_data"
    }
   ],
   "source": [
    "test_random_prediction(x_test, y_test, w1, b1, w2, b2)"
   ]
  },
  {
   "cell_type": "code",
   "execution_count": 39,
   "id": "958bd83a-0a23-43ef-892c-8e6debeee33b",
   "metadata": {},
   "outputs": [],
   "source": [
    "def print_model_accuracy(x_data, y_data, w1, b1, w2, b2):\n",
    "    \"\"\"\n",
    "    Print overall accuracy and class-wise accuracy of the model.\n",
    "    No plots or graphs, only text output.\n",
    "    \"\"\"\n",
    "    # Get predictions for all test samples\n",
    "    predictions = make_prediction(x_data, w1, b1, w2, b2)\n",
    "\n",
    "    # Overall accuracy\n",
    "    overall_accuracy = get_accuracy(predictions, y_data)\n",
    "    \n",
    "    print(f\"\\n\\nOverall Accuracy: {overall_accuracy:.4%}\")\n",
    "    \n",
    "\n",
    "    # Class-wise accuracy\n",
    "    print(\"Class-wise Accuracy:\")\n",
    "    for digit in range(10):\n",
    "        indices = np.where(y_data == digit)[0]\n",
    "        if len(indices) > 0:\n",
    "            class_acc = np.mean(predictions[indices] == y_data[indices])\n",
    "            print(f\"Class {digit} accuracy: {class_acc:.4%}\")\n",
    "        else:\n",
    "            print(f\"Class {digit}: No samples available\")\n",
    "    print(\"\\n\\n\")"
   ]
  },
  {
   "cell_type": "code",
   "execution_count": 40,
   "id": "4f93cbce-9fd9-4913-8f94-7a4685ce1f98",
   "metadata": {},
   "outputs": [
    {
     "name": "stdout",
     "output_type": "stream",
     "text": [
      "[3 1 4 9 0 3 7 2 0 6 1 1 0 2 3 6 1 4 7 6 4 2 5 3 1 2 0 9 0 0 1 0 6 9 1 7 8\n",
      " 0 1 6 5 0 3 8 4 3 2 4 9 9 5 7 3 9 8 1 4 9 8 1 9 4 1 6 8 3 2 2 2 0 6 6 7 6\n",
      " 1 1 6 6 3 7 9 7 0 8 5 6 3 2 1 8 6 1 9 8 6 2 4 0 2 3 0 9 3 9 4 7 9 3 6 0 9\n",
      " 0 9 1 6 4 4 5 6 8 1 1 6 6 3 9 5 9 5 4 1 8 7 4 3 9 9 4 7 0 0 3 1 4 8 2 9 7\n",
      " 0 9 7 6 8 6 4 0 2 4 3 3 3 8 1 0 0 2 0 3 2 9 1 0 7 1 9 8 4 0 8 1 1 3 7 9 2\n",
      " 1 1 9 4 2 4 9 4 4 8 4 6 7 4 4 7 9 3 7 9 1 9 7 3 2 2 1 2 2 3 1 5 3 4 3 8 6\n",
      " 9 6 1 3 1 4 2 6 6 5 0 6 6 6 9 6 7 3 7 0 1 3 5 5 2 8 8 6 6 5 3 0 0 8 1 7 5\n",
      " 1 1 0 0 1 5 7 8 8 1 2 7 7 0 7 8 8 4 1 0 1 4 3 6 7 7 8 5 6 3 3 8 7 8 7 6 3\n",
      " 3 0 0 3 0 1 5 8 0 7 5 9 6 3 4 1 6 8 9 5 3 8 9 3 6 2 7 3 0 2 4 3 7 5 5 4 4\n",
      " 1 1 4 5 6 0 7 5 4 0 1 5 9 7 2 5 1 8 9 5 7 0 2 6 5 6 9 0 6 9 0 3 3 5 6 3 7\n",
      " 7 7 6 2 5 0 0 6 6 9 1 1 2 8 0 7 2 9 6 6 7 8 9 4 7 1 9 0 0 4 0 8 8 6 9 3 0\n",
      " 1 6 9 7 3 4 1 8 8 8 6 6 5 4 0 0 8 9 2 1 1 1 5 5 6 8 3 8 6 5 8 2 8 9 3 2 6\n",
      " 7 9 4 6 0 2 7 8 6 6 3 6 2 6 5 2 4 5 4 2 9 1 3 1 6 2 2 7 1 3 2 0 6 8 2 5 1\n",
      " 4 0 4 3 2 8 9 1 5 6 4 6 9 3 3 0 0 9 6 3 0 5 0 4 7 6 5 0 1 6 3 7 8 0 0 1 4\n",
      " 1 1 7 1 9 6 7 6 5 0 3 8 5 8 3 9 4 6 3 8 9 4 5 8 6 3 5 5 6 4 3 2 2 4 6 1 0\n",
      " 5 7 9 1 1 5 2 2 8 1 7 8 4 3 4 6 2 9 2 5 1 1 9 4 1 4 2 7 9 2 2 4 5 6 3 2 1\n",
      " 5 1 0 9 3 1 6 0 2 8 6 3 0 5 4 5 5 8 5 4 0 7 5 5 0 5 0 4 9 7 6 9 8 0 8 0 7\n",
      " 1 7 7 4 5 2 6 8 3 1 6 7 6 4 9 2 2 1 0 9 2 7 3 1 7 7 2 8 0 4 5 9 7 6 1 7 0\n",
      " 1 5 5 5 8 0 0 0 6 1 1 0 6 0 6 6 6 8 0 0 0 8 5 1 0 1 9 8 8 5 4 5 9 6 3 6 6\n",
      " 1 5 0 2 2 4 1 9 9 6 4 8 8 1 2 4 9 5 7 7 0 4 1 3 4 6 1 6 1 9 6 5 0 1 0 2 5\n",
      " 5 9 5 6 0 6 4 7 7 6 4 3 6 4 1 2 9 6 6 3 4 1 4 1 3 6 8 9 3 3 9 6 3 4 1 3 1\n",
      " 1 7 7 1 0 3 1 0 6 1 9 9 7 9 0 3 4 8 1 8 7 7 2 8 3 9 4 4 9 4 7 1 5 6 1 7 3\n",
      " 0 1 8 0 4 3 9 6 8 9 2 5 9 1 3 2 7 9 4 8 4 3 3 7 9 2 0 2 8 3 2 2 0 0 8 5 0\n",
      " 9 7 2 6 8 8 5 2 9 7 3 8 6 7 5 8 8 7 8 1 4 8 7 9 5 3 9 0 5 6 1 2 0 4 8 2 1\n",
      " 5 7 0 7 3 7 0 0 0 3 8 3 2 0 4 0 2 5 6 5 7 9 3 0 6 3 1 4 2 5 6 0 8 4 7 8 5\n",
      " 4 8 8 9 5 5 0 3 0 5 1 9 3 8 6 3 0 5 4 3 5 1 2 0 7 1 0 8 3 4 4 2 9 0 8 3 9\n",
      " 1 5 6 2 5 5 5 8 9 3 9 0 2 4 1 4 0 9 4 6 4 0 8 5 0 6 6 6 9 9 8 9 1 4 5 5 0\n",
      " 1] [8 1 4 4 0 3 7 2 0 6 1 1 0 2 3 6 1 4 7 6 6 2 5 3 1 2 0 9 0 0 1 0 6 9 1 7 2\n",
      " 0 1 6 8 0 3 8 9 3 2 4 4 9 5 7 3 9 8 1 4 9 3 1 9 4 1 6 8 3 4 2 2 0 6 6 7 6\n",
      " 1 1 6 6 3 7 9 7 0 8 5 8 3 0 1 8 6 1 9 8 6 2 4 0 2 3 0 9 3 9 4 7 4 3 6 0 9\n",
      " 0 8 1 6 9 4 5 6 8 1 1 6 6 3 9 8 9 5 4 8 8 7 9 3 9 9 4 7 0 0 8 1 4 8 2 9 9\n",
      " 0 9 7 6 8 6 4 0 2 4 8 3 5 8 1 0 0 2 0 3 2 9 1 0 7 1 9 8 4 0 8 1 1 3 7 4 2\n",
      " 1 1 7 9 2 4 9 4 4 8 4 7 0 4 4 7 9 3 7 9 1 4 7 7 2 2 1 2 2 3 1 5 3 4 3 8 6\n",
      " 9 6 1 9 1 4 2 6 6 3 0 6 6 6 9 6 7 3 7 0 2 3 5 5 2 2 8 6 6 5 3 0 0 8 1 7 5\n",
      " 1 1 0 0 1 5 3 9 5 1 2 7 7 0 7 8 8 4 1 0 1 4 3 6 7 7 8 5 6 3 3 8 7 8 7 6 3\n",
      " 3 0 0 3 0 1 5 8 0 7 5 9 6 3 2 1 6 8 9 5 3 3 9 3 6 2 7 3 0 2 4 3 7 5 5 4 4\n",
      " 1 1 4 5 6 0 7 5 4 0 8 5 4 7 2 5 1 0 9 8 9 0 2 2 5 6 9 0 6 4 0 3 3 5 6 3 7\n",
      " 7 7 6 2 5 0 0 6 6 7 1 5 2 2 0 7 2 4 6 6 7 8 9 4 7 1 7 0 0 4 0 5 8 6 9 3 0\n",
      " 1 6 9 7 3 4 1 8 8 8 6 6 5 4 0 0 8 9 2 1 1 1 5 5 6 8 3 8 6 3 8 2 8 9 3 1 6\n",
      " 7 2 4 6 0 2 7 8 6 6 3 6 2 6 5 2 4 5 8 3 9 1 3 1 5 2 2 7 1 3 2 0 6 8 2 4 1\n",
      " 4 0 4 3 2 8 9 1 5 6 4 6 9 3 3 0 0 7 6 3 0 5 0 4 7 6 5 0 1 6 3 7 8 0 0 1 4\n",
      " 1 1 7 1 9 6 7 4 5 0 3 8 8 8 3 8 4 6 3 8 9 4 5 5 6 3 5 5 6 4 2 2 7 4 6 1 0\n",
      " 5 7 9 1 1 8 2 4 8 1 7 8 4 8 4 6 7 9 2 5 1 1 9 4 1 2 2 7 9 8 2 6 5 3 9 2 1\n",
      " 5 1 0 9 8 1 6 0 2 8 6 8 0 5 4 5 5 8 5 4 0 7 5 5 0 5 0 4 9 7 6 9 5 0 8 0 2\n",
      " 1 7 7 4 5 2 6 8 3 1 6 3 6 4 5 2 2 1 0 9 2 7 3 1 7 7 2 8 0 3 3 9 7 6 1 7 0\n",
      " 1 5 9 0 8 0 0 0 6 1 1 0 6 0 6 6 6 9 0 0 0 8 5 1 0 1 9 8 8 5 4 5 9 6 3 6 6\n",
      " 1 5 0 3 2 4 1 9 9 6 5 8 8 1 8 8 9 5 7 7 0 9 1 3 4 6 1 6 1 9 6 5 0 1 0 2 3\n",
      " 5 9 5 6 0 6 4 7 7 6 4 3 6 4 1 3 9 6 4 3 4 1 4 1 3 6 8 9 3 3 9 6 3 4 1 3 1\n",
      " 1 7 7 1 0 3 1 0 6 1 9 9 7 9 0 5 4 8 1 8 7 7 2 1 3 9 4 4 9 4 7 2 5 6 1 7 3\n",
      " 0 1 8 0 4 3 9 6 8 9 2 5 9 1 3 7 7 7 4 8 4 5 3 7 3 2 0 2 9 3 2 6 0 0 8 5 2\n",
      " 9 7 2 6 8 8 5 2 9 7 3 8 6 7 3 8 5 7 8 1 4 8 7 9 5 3 9 0 5 0 1 2 0 4 8 2 1\n",
      " 5 7 0 2 5 9 0 0 0 3 1 3 2 0 5 0 2 3 6 5 7 9 3 0 6 3 1 4 4 5 6 0 8 4 7 8 5\n",
      " 5 8 8 9 3 5 0 3 0 5 1 9 3 8 6 3 6 5 4 3 5 1 2 0 7 1 0 8 3 4 2 2 9 0 8 9 9\n",
      " 1 3 6 2 5 5 3 8 4 3 9 0 2 4 1 4 0 7 4 2 4 0 5 5 0 6 6 8 9 9 8 9 1 4 5 5 0\n",
      " 1]\n",
      "\n",
      "\n",
      "Overall Accuracy: 87.6000%\n",
      "Class-wise Accuracy:\n",
      "Class 0 accuracy: 95.8678%\n",
      "Class 1 accuracy: 97.3684%\n",
      "Class 2 accuracy: 81.9277%\n",
      "Class 3 accuracy: 81.5534%\n",
      "Class 4 accuracy: 84.0426%\n",
      "Class 5 accuracy: 82.6087%\n",
      "Class 6 accuracy: 96.3964%\n",
      "Class 7 accuracy: 87.7778%\n",
      "Class 8 accuracy: 78.5714%\n",
      "Class 9 accuracy: 84.0426%\n",
      "\n",
      "\n",
      "\n"
     ]
    }
   ],
   "source": [
    "print_model_accuracy(x_test, y_test, w1, b1, w2, b2)"
   ]
  },
  {
   "cell_type": "code",
   "execution_count": null,
   "id": "40a93cfb-1772-456f-bb97-ae71e004b21f",
   "metadata": {},
   "outputs": [],
   "source": []
  }
 ],
 "metadata": {
  "kernelspec": {
   "display_name": "Python 3 (ipykernel)",
   "language": "python",
   "name": "python3"
  },
  "language_info": {
   "codemirror_mode": {
    "name": "ipython",
    "version": 3
   },
   "file_extension": ".py",
   "mimetype": "text/x-python",
   "name": "python",
   "nbconvert_exporter": "python",
   "pygments_lexer": "ipython3",
   "version": "3.12.7"
  }
 },
 "nbformat": 4,
 "nbformat_minor": 5
}
